{
  "nbformat": 4,
  "nbformat_minor": 0,
  "metadata": {
    "colab": {
      "provenance": [],
      "toc_visible": true,
      "collapsed_sections": [],
      "include_colab_link": true
    },
    "kernelspec": {
      "name": "python3",
      "display_name": "Python 3"
    },
    "language_info": {
      "name": "python"
    }
  },
  "cells": [
    {
      "cell_type": "markdown",
      "metadata": {
        "id": "view-in-github",
        "colab_type": "text"
      },
      "source": [
        "<a href=\"https://colab.research.google.com/github/CjPunzal/Elective2-Machine-Learning/blob/main/ReviewofPython_Punzal_4ANS.ipynb\" target=\"_parent\"><img src=\"https://colab.research.google.com/assets/colab-badge.svg\" alt=\"Open In Colab\"/></a>"
      ]
    },
    {
      "cell_type": "markdown",
      "source": [
        "© Cherry Casuat (2022)"
      ],
      "metadata": {
        "id": "WV-tDIDNX90m"
      }
    },
    {
      "cell_type": "markdown",
      "source": [
        "This is the notebook for Introduction to Machine Learning "
      ],
      "metadata": {
        "id": "nuLAY70LYKyo"
      }
    },
    {
      "cell_type": "markdown",
      "source": [
        "#Review of Python Programming"
      ],
      "metadata": {
        "id": "JzwoJaO4YbFa"
      }
    },
    {
      "cell_type": "markdown",
      "source": [
        "## Proper Naming Convention "
      ],
      "metadata": {
        "id": "2OSj5aeRYlqW"
      }
    },
    {
      "cell_type": "markdown",
      "source": [
        "You might think discussing this topic must be pointless or too simplistic but it is actually one of the most frequent mistakes that data scientists, professors, or researchers usually do. Naming variables and functions properly will bring clarity to understanding the code."
      ],
      "metadata": {
        "id": "ROR1QIBoaLlp"
      }
    },
    {
      "cell_type": "code",
      "source": [
        "import pandas as pd\n",
        "import numpy as np"
      ],
      "metadata": {
        "id": "k8FTRF0-aDA3"
      },
      "execution_count": 1,
      "outputs": []
    },
    {
      "cell_type": "code",
      "source": [
        "last_names = [\"Rosales\",\"Cruz\",\"Reyes\"]\n",
        "#ln , avoid creating ambiguity"
      ],
      "metadata": {
        "id": "wcpwpXMhaoQ_"
      },
      "execution_count": 2,
      "outputs": []
    },
    {
      "cell_type": "code",
      "source": [
        "last_names"
      ],
      "metadata": {
        "colab": {
          "base_uri": "https://localhost:8080/"
        },
        "id": "6ygSIRTIbNta",
        "outputId": "054a7231-f92b-47b3-8fc5-595f58e29abe"
      },
      "execution_count": 3,
      "outputs": [
        {
          "output_type": "execute_result",
          "data": {
            "text/plain": [
              "['Rosales', 'Cruz', 'Reyes']"
            ]
          },
          "metadata": {},
          "execution_count": 3
        }
      ]
    },
    {
      "cell_type": "markdown",
      "source": [
        "##Practice Activity\n",
        "1. Create variable declarations for \n",
        "   - First Names\n",
        "   -Grades for Prelim\n",
        "   -Grades for Midterm\n",
        "   -Grades for Finals\n",
        "   -Grades for Semestral"
      ],
      "metadata": {
        "id": "alN4AtH8bb4b"
      }
    },
    {
      "cell_type": "code",
      "source": [
        "# CODE HERE \n",
        "list_grades = {\n",
        "\"first_names\": [\"Catherine\",\"James\",\"Christian\"],\n",
        "\"last_names\": last_names,\n",
        "\"prelim_grades\": [76,80,80],\n",
        "\"midterm_grades\": [78,78,80],\n",
        "\"finals_grades\": [79,79,88],\n",
        "\"semestral_grades\": semestral_grades\n",
        "}"
      ],
      "metadata": {
        "id": "2RCExqHGbUca"
      },
      "execution_count": 4,
      "outputs": []
    },
    {
      "cell_type": "markdown",
      "source": [
        "##Code Reusability"
      ],
      "metadata": {
        "id": "AR-JIDeRcKIV"
      }
    },
    {
      "cell_type": "markdown",
      "source": [
        "Just like in any writing we want to reduce redundancies in our content. Just like following the rules of brevity we also consider that in creating cleaner code. One way of applying brevity to code is code reusability wherein you refrain from creating code that you repeat in encoding. This is where the use of functions will be most used. Consider the following code below."
      ],
      "metadata": {
        "id": "bkh-O-xicOgI"
      }
    },
    {
      "cell_type": "code",
      "source": [
        "'''\n",
        "    CASE 2: Computing grades.\n",
        "\n",
        "    For this cell we are going to look into creating functions for the class.\n",
        "    This includes computing for their grades and some classroom management\n",
        "    routines.\n",
        "'''\n",
        "### Consider this procedural programming script\n",
        "gs_1 = [89.4, 78.2, 88.0, 28.5, 67.3]\n",
        "# Get average grades of the class\n",
        "class_g = 0\n",
        "for g in gs_1:\n",
        "  class_g += g\n",
        "cmean = class_g/len(gs_1)\n",
        "print (cmean)"
      ],
      "metadata": {
        "colab": {
          "base_uri": "https://localhost:8080/"
        },
        "id": "NLnOlMKlb2b1",
        "outputId": "0eef3e81-f3cc-451a-9c20-4503ddd1004b"
      },
      "execution_count": 5,
      "outputs": [
        {
          "output_type": "stream",
          "name": "stdout",
          "text": [
            "70.28\n"
          ]
        }
      ]
    },
    {
      "cell_type": "code",
      "source": [
        "# Code here for grades  (89,90,73,45)\n",
        "grades = [89,90,73,45]"
      ],
      "metadata": {
        "id": "xIfmg6nGc-4a"
      },
      "execution_count": 6,
      "outputs": []
    },
    {
      "cell_type": "code",
      "source": [
        "### That works but if you keep doing that for production, it would just look\n",
        "### like spaghetti code. Instead, if you are repeating code, consider creating\n",
        "### a function.\n",
        "\n",
        "def average(grades):\n",
        "  grades_class = 0\n",
        "  for g in grades:\n",
        "    grades_class += g\n",
        "  avg = grades_class/len(grades)\n",
        "  return avg"
      ],
      "metadata": {
        "id": "I8enZymbdNGf"
      },
      "execution_count": 7,
      "outputs": []
    },
    {
      "cell_type": "code",
      "source": [
        "## The code above would be reusable but it is not easy to read. We need to \n",
        "### enforce the code refactoring for renaming not just the variables but also\n",
        "### the functions we are creating. So if we would refactor the 'average' \n",
        "### Function earlier it could be:\n",
        "\n",
        "def get_class_ave(arr):\n",
        "  class_grades = 0\n",
        "  for grade in arr:\n",
        "    class_grades += grade\n",
        "  class_avg = class_grades/len(arr)\n",
        "  return class_avg"
      ],
      "metadata": {
        "id": "NHEnXwXBdkt-"
      },
      "execution_count": 8,
      "outputs": []
    },
    {
      "cell_type": "markdown",
      "source": [
        "##Getting Class Statistics"
      ],
      "metadata": {
        "id": "BEwCQHwCdqkZ"
      }
    },
    {
      "cell_type": "markdown",
      "source": [
        "Create a function named get_grades() for computing the semestral grade of each student:\n",
        "\n",
        "inputs: DataFrame of a class grade sheet.\n",
        "\n",
        "outpus: DataFrame showing:\n",
        "    The prelim, midterms, and finals grades of each student\n",
        "    The semestral grade of each student\n",
        "\n",
        "Create a function named get_class_stats().\n",
        "\n",
        "inputs: DataFrame from get_grades().\n",
        "\n",
        "outpus: DataFrame showing:\n",
        "    The lowest and highest prelim, midterm, finals, and semestral grades\n",
        "    the mean, median, mode, and standard deviation of the grades"
      ],
      "metadata": {
        "id": "LJ1UECSWd43_"
      }
    },
    {
      "cell_type": "code",
      "source": [
        "## Code here##\n",
        "def get_grades():\n",
        "  get_grades.var = pd.DataFrame(list_grades)\n",
        "  print(get_grades.var)\n",
        "\n",
        "def get_class_stats():\n",
        "  \n",
        "  stats_mean = get_grades.var[[\"prelim_grades\",\"midterm_grades\",\"finals_grades\"]].mean()\n",
        "  stats_median = get_grades.var[[\"prelim_grades\",\"midterm_grades\",\"finals_grades\"]].median()\n",
        "  stats_mode = get_grades.var[[\"prelim_grades\",\"midterm_grades\",\"finals_grades\"]].mode()\n",
        "  stats_standard = get_grades.var[[\"prelim_grades\",\"midterm_grades\",\"finals_grades\"]].std()\n",
        "\n",
        "  stats_mean = np.array(stats_mean)\n",
        "  stats_median = np.array(stats_median)\n",
        "\n",
        "  print(stats_mean)\n",
        "  print(stats_median)\n",
        "  print(stats_mode)\n",
        "  print(stats_standard)\n",
        "\n",
        "  stats = stats_mean, stats_median, stats_mode, stats_standard\n",
        "  labels = ['mean', 'median', 'mode', 'standard']\n",
        "  df = pd.DataFrame(stats , index=labels)\n",
        "  \n",
        "  print(df)\n",
        "\n",
        "get_grades()\n",
        "print(\"\")\n",
        "get_class_stats()"
      ],
      "metadata": {
        "id": "DIfZj6DEd2k4",
        "colab": {
          "base_uri": "https://localhost:8080/"
        },
        "outputId": "e59f178b-eb50-4b19-9a56-1d12e80c7b98"
      },
      "execution_count": 27,
      "outputs": [
        {
          "output_type": "stream",
          "name": "stdout",
          "text": [
            "  first_names last_names  prelim_grades  midterm_grades  finals_grades\n",
            "0   Catherine    Rosales             76              78             79\n",
            "1       James       Cruz             80              78             79\n",
            "2   Christian      Reyes             80              80             88\n",
            "\n",
            "[78.66666667 78.66666667 82.        ]\n",
            "[80. 78. 79.]\n",
            "   prelim_grades  midterm_grades  finals_grades\n",
            "0             80              78             79\n",
            "prelim_grades     2.309401\n",
            "midterm_grades    1.154701\n",
            "finals_grades     5.196152\n",
            "dtype: float64\n",
            "                      0               1              2\n",
            "mean          78.666667       78.666667           82.0\n",
            "median             80.0            78.0           79.0\n",
            "mode      prelim_grades  midterm_grades  finals_grades\n",
            "standard       2.309401        1.154701       5.196152\n"
          ]
        }
      ]
    },
    {
      "cell_type": "markdown",
      "source": [
        "##Code Optimization\n",
        "When we consider your code to be part of production or for customer delivery we must consider that they are not laggy nor too space-consuming for devices. This is a common practice in data science and machine learning wherein training algorithms take up resources from computers or considering the space a model consumes at your workspace or your customer’s device."
      ],
      "metadata": {
        "id": "yPp4xl-beMIB"
      }
    },
    {
      "cell_type": "markdown",
      "source": [
        "Space Complexity\n",
        "\n",
        "This would specifically refer to your choice of data structures. This is a job for reviewing data structures and algorithms for space complexity. Although in Python for AI we are looking into more data structures like matrices and data frames."
      ],
      "metadata": {
        "id": "CctsMtzIeax_"
      }
    },
    {
      "cell_type": "code",
      "source": [
        "## The following code will optimize how to efficiently store data into memory\n",
        "enrollees_2016_2020 = ['15022', '18302', '8845', '9203', '10035']\n",
        "enrollees_2016_2020 = [15022, 18302, 8845, 9203, 10035]"
      ],
      "metadata": {
        "id": "44ygYd6UeFOK"
      },
      "execution_count": null,
      "outputs": []
    },
    {
      "cell_type": "code",
      "source": [
        "img1 =[[125.453, 254],[64.21,84.53]]\n",
        "img1"
      ],
      "metadata": {
        "id": "B9I_1oWCewpr"
      },
      "execution_count": null,
      "outputs": []
    },
    {
      "cell_type": "code",
      "source": [
        "import numpy as np\n",
        "img1_vector= np.array(img1)\n",
        "img1_vector"
      ],
      "metadata": {
        "id": "BZLeQRJ8e8ow"
      },
      "execution_count": null,
      "outputs": []
    },
    {
      "cell_type": "markdown",
      "source": [
        "##Practice Activity\n",
        "code wil try to optimize getting unique elements from the given\n",
        "list of class codes\n",
        "\n",
        "curr_2018_courses = ['220', '270', '318', '450', '101', '768', '223L', '223',\n",
        "                     '727', '418', '673', '672', '450', '124', '771', '654',\n",
        "                     '231', '768', '768', '224', '654', '673']\n",
        "\n",
        "### print an array that shows only the unique elements\n",
        "\n"
      ],
      "metadata": {
        "id": "BsPgIjVvfuAM"
      }
    },
    {
      "cell_type": "code",
      "source": [
        "## CODE HERE ##\n",
        "\n",
        "curr_2018_courses = ['220', '270', '318', '450', '101', '768', '223L', '223', '727', '418', '673', '672', '450', '124', '771', '654', '231', '768', '768', '224', '654', '673']\n",
        "n = len(curr_2018_courses)\n",
        "\n",
        "def printDistinct(curr_2018_courses, n):\n",
        " \n",
        "    for i in range(0, n):\n",
        " \n",
        "        d = 0\n",
        "        for j in range(0, i):\n",
        "            if (curr_2018_courses[i] == curr_2018_courses[j]):\n",
        "                d = 1\n",
        "                break\n",
        "\n",
        "        if (d == 0):\n",
        "            print(curr_2018_courses[i])\n",
        "  \n",
        "printDistinct(curr_2018_courses, n)"
      ],
      "metadata": {
        "id": "RdpdlgzzfRbX"
      },
      "execution_count": null,
      "outputs": []
    }
  ]
}